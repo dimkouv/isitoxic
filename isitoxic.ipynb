{
 "cells": [
  {
   "cell_type": "markdown",
   "metadata": {},
   "source": [
    "# Toxic Comment Classification | Is It Toxic?\n",
    "*Kouveris N. Dimitrios  |  dimkouv@protonmail.com*\n",
    "\n",
    "This notebook contains my entry for\n",
    "<a href=\"https://www.kaggle.com/c/jigsaw-toxic-comment-classification-challenge\">Toxic Comment Classification Challenge</a> by <a href=\"https://www.kaggle.com/jigsaw-team\">Jigsaw</a>.\n",
    "\n",
    "My entry was made while on my `data mining` course by <a href=\"http://cs.uoi.gr/~tsap\">Panayiotis Tsaparas</a> at <a href=\"http://uoi.gr\">University of Ioannina</a>.\n",
    "\n",
    "\n",
    "## Description\n",
    "We are going to read some chat conversation texts.  \n",
    "We'll keep a train and a sample set then try to identify toxic (rude) comments."
   ]
  },
  {
   "cell_type": "code",
   "execution_count": 1,
   "metadata": {},
   "outputs": [],
   "source": [
    "import pandas as pd\n",
    "import math\n",
    "import random\n",
    "import re\n",
    "import matplotlib.pyplot as plt\n",
    "import os\n",
    "import collections\n",
    "import sys\n",
    "from scipy.sparse import hstack\n",
    "import numpy as np\n",
    "nb_dir = os.path.split(os.getcwd())[0]\n",
    "if nb_dir not in sys.path:\n",
    "    sys.path.append(nb_dir)\n",
    "from utilities import show_top_vectorizer_features\n",
    "\n",
    "%matplotlib inline"
   ]
  },
  {
   "cell_type": "markdown",
   "metadata": {},
   "source": [
    "## Parsing and reading Training Data"
   ]
  },
  {
   "cell_type": "code",
   "execution_count": 2,
   "metadata": {},
   "outputs": [
    {
     "data": {
      "text/html": [
       "<div>\n",
       "<style scoped>\n",
       "    .dataframe tbody tr th:only-of-type {\n",
       "        vertical-align: middle;\n",
       "    }\n",
       "\n",
       "    .dataframe tbody tr th {\n",
       "        vertical-align: top;\n",
       "    }\n",
       "\n",
       "    .dataframe thead th {\n",
       "        text-align: right;\n",
       "    }\n",
       "</style>\n",
       "<table border=\"1\" class=\"dataframe\">\n",
       "  <thead>\n",
       "    <tr style=\"text-align: right;\">\n",
       "      <th></th>\n",
       "      <th>id</th>\n",
       "      <th>comment_text</th>\n",
       "      <th>toxic</th>\n",
       "      <th>severe_toxic</th>\n",
       "      <th>obscene</th>\n",
       "      <th>threat</th>\n",
       "      <th>insult</th>\n",
       "      <th>identity_hate</th>\n",
       "    </tr>\n",
       "  </thead>\n",
       "  <tbody>\n",
       "    <tr>\n",
       "      <th>0</th>\n",
       "      <td>0000997932d777bf</td>\n",
       "      <td>Explanation\\nWhy the edits made under my usern...</td>\n",
       "      <td>0</td>\n",
       "      <td>0</td>\n",
       "      <td>0</td>\n",
       "      <td>0</td>\n",
       "      <td>0</td>\n",
       "      <td>0</td>\n",
       "    </tr>\n",
       "    <tr>\n",
       "      <th>1</th>\n",
       "      <td>000103f0d9cfb60f</td>\n",
       "      <td>D'aww! He matches this background colour I'm s...</td>\n",
       "      <td>0</td>\n",
       "      <td>0</td>\n",
       "      <td>0</td>\n",
       "      <td>0</td>\n",
       "      <td>0</td>\n",
       "      <td>0</td>\n",
       "    </tr>\n",
       "    <tr>\n",
       "      <th>2</th>\n",
       "      <td>000113f07ec002fd</td>\n",
       "      <td>Hey man, I'm really not trying to edit war. It...</td>\n",
       "      <td>0</td>\n",
       "      <td>0</td>\n",
       "      <td>0</td>\n",
       "      <td>0</td>\n",
       "      <td>0</td>\n",
       "      <td>0</td>\n",
       "    </tr>\n",
       "    <tr>\n",
       "      <th>3</th>\n",
       "      <td>0001b41b1c6bb37e</td>\n",
       "      <td>\"\\nMore\\nI can't make any real suggestions on ...</td>\n",
       "      <td>0</td>\n",
       "      <td>0</td>\n",
       "      <td>0</td>\n",
       "      <td>0</td>\n",
       "      <td>0</td>\n",
       "      <td>0</td>\n",
       "    </tr>\n",
       "    <tr>\n",
       "      <th>4</th>\n",
       "      <td>0001d958c54c6e35</td>\n",
       "      <td>You, sir, are my hero. Any chance you remember...</td>\n",
       "      <td>0</td>\n",
       "      <td>0</td>\n",
       "      <td>0</td>\n",
       "      <td>0</td>\n",
       "      <td>0</td>\n",
       "      <td>0</td>\n",
       "    </tr>\n",
       "  </tbody>\n",
       "</table>\n",
       "</div>"
      ],
      "text/plain": [
       "                 id                                       comment_text  toxic  \\\n",
       "0  0000997932d777bf  Explanation\\nWhy the edits made under my usern...      0   \n",
       "1  000103f0d9cfb60f  D'aww! He matches this background colour I'm s...      0   \n",
       "2  000113f07ec002fd  Hey man, I'm really not trying to edit war. It...      0   \n",
       "3  0001b41b1c6bb37e  \"\\nMore\\nI can't make any real suggestions on ...      0   \n",
       "4  0001d958c54c6e35  You, sir, are my hero. Any chance you remember...      0   \n",
       "\n",
       "   severe_toxic  obscene  threat  insult  identity_hate  \n",
       "0             0        0       0       0              0  \n",
       "1             0        0       0       0              0  \n",
       "2             0        0       0       0              0  \n",
       "3             0        0       0       0              0  \n",
       "4             0        0       0       0              0  "
      ]
     },
     "execution_count": 2,
     "metadata": {},
     "output_type": "execute_result"
    }
   ],
   "source": [
    "train = pd.read_csv('./train.csv')\n",
    "train.head()"
   ]
  },
  {
   "cell_type": "code",
   "execution_count": 3,
   "metadata": {},
   "outputs": [],
   "source": [
    "columns = [\"toxic\", \"severe_toxic\", \"obscene\", \"threat\", \"insult\", \"identity_hate\"]"
   ]
  },
  {
   "cell_type": "code",
   "execution_count": 4,
   "metadata": {},
   "outputs": [
    {
     "data": {
      "image/png": "[encoded data removed]",
      "text/plain": [
       "<matplotlib.figure.Figure at 0x7fc43f6189b0>"
      ]
     },
     "metadata": {},
     "output_type": "display_data"
    }
   ],
   "source": [
    "# plot length of texts\n",
    "def plotlist(l, lbl):\n",
    "    x = range(len(l))\n",
    "    plt.plot(x, l, label=lbl)\n",
    "    plt.legend()\n",
    "    plt.show()\n",
    "\n",
    "plotlist(sorted([len(x) for x in train[\"comment_text\"]]), \"Comment Length\")"
   ]
  },
  {
   "cell_type": "code",
   "execution_count": 5,
   "metadata": {},
   "outputs": [
    {
     "name": "stdout",
     "output_type": "stream",
     "text": [
      "Explanation\n",
      "Why the edits made under my username Hardcore Metallica Fan were reverted? They weren't vandalisms, just closure on some GAs after I voted at New York Dolls FAC. And please don't remove the template from the talk page since I'm retired now.89.205.38.27\n",
      "D'aww! He matches this background colour I'm seemingly stuck with. Thanks.  (talk) 21:51, January 11, 2016 (UTC)\n",
      "Hey man, I'm really not trying to edit war. It's just that this guy is constantly removing relevant information and talking to me through edits instead of my talk page. He seems to care more about the formatting than the actual info.\n",
      "\"\n",
      "More\n",
      "I can't make any real suggestions on improvement - I wondered if the section statistics should be later on, or a subsection of \"\"types of accidents\"\"  -I think the references may need tidying so that they are all in the exact same format ie date format etc. I can do that later on, if no-one else does first - if you have any preferences for formatting style on references or want to do it yourself please let me know.\n",
      "\n",
      "There appears to be a backlog on articles for review so I guess there may be a delay until a reviewer turns up. It's listed in the relevant form eg Wikipedia:Good_article_nominations#Transport  \"\n",
      "You, sir, are my hero. Any chance you remember what page that's on?\n",
      "\"\n",
      "\n",
      "Congratulations from me as well, use the tools well.  · talk \"\n",
      "COCKSUCKER BEFORE YOU PISS AROUND ON MY WORK\n",
      "Your vandalism to the Matt Shirvington article has been reverted.  Please don't do it again, or you will be banned.\n",
      "Sorry if the word 'nonsense' was offensive to you. Anyway, I'm not intending to write anything in the article(wow they would jump on me for vandalism), I'm merely requesting that it be more encyclopedic so one can use it for school as a reference. I have been to the selective breeding page but it's almost a stub. It points to 'animal breeding' which is a short messy article that gives you no info. There must be someone around with expertise in eugenics? 93.161.107.169\n",
      "alignment on this subject and which are contrary to those of DuLithgow\n"
     ]
    }
   ],
   "source": [
    "# check some texts\n",
    "for i in range(10):\n",
    "    print(train[\"comment_text\"][i])"
   ]
  },
  {
   "cell_type": "code",
   "execution_count": 6,
   "metadata": {},
   "outputs": [
    {
     "name": "stdout",
     "output_type": "stream",
     "text": [
      "Total Toxic comments:               15294\n",
      "Total Severe_Toxic comments:        1595\n",
      "Total Obscene comments:             8449\n",
      "Total Threat comments:              478\n",
      "Total Insult comments:              7877\n",
      "Total Identity_Hate comments:       1405\n"
     ]
    }
   ],
   "source": [
    "# print number of each text type\n",
    "vals = {}\n",
    "for c in columns:\n",
    "    print(\"%-35s\" % (\"Total \" + c.title() + \" comments:\"), train[c].sum())"
   ]
  },
  {
   "cell_type": "code",
   "execution_count": 7,
   "metadata": {},
   "outputs": [
    {
     "name": "stdout",
     "output_type": "stream",
     "text": [
      "Total spam: 580\n"
     ]
    },
    {
     "data": {
      "text/plain": [
       "['2010 Meet a Local - Vietnam TV Series, Factual / Documentary, 60mins\\n\\n2010 Meet a Local - Spain TV Series, Factual / Documentary, 60mins\\n\\n2009 Meet a ...',\n",
       " \"Other Bush articles not referenced in George W. Bush\\nNone of the following articles is mentioned in the George W. Bush and perhaps should be:\\n Bush's ...\",\n",
       " '\"\\n\\nOrphaned non-free image (Image:KSV Hessen Kassel.png)\\n Thanks for uploading Image:KSV Hessen Kassel.png. The image description page currently speci...',\n",
       " 'I AM GAY\\nLove\\n  \\nI AM GAY\\nLove\\n  \\nI AM GAY\\nLove...',\n",
       " 'YOUR ARE FUCKING GAY WAD!!!!!!!!!!!!!!!!!!!!!!!!!!!!!!!!!!!!!!!!!!!!!!!!!!!!!!!!!!!!!!!!!!!!!!!!!!!!!!!!!!!!!!!!!!!!!!!!!!!!!!!!!!!!!!!!!!!!!!!!!!!!!!...',\n",
       " 'YOU ARE A MOTHJER FUCKER COCKSUCKER! YOU ARE A MOTHJER FUCKER COCKSUCKER! YOU ARE A MOTHJER FUCKER COCKSUCKER! YOU ARE A MOTHJER FUCKER COCKSUCKER! YO...',\n",
       " 'User:NHRHS2010 is a homo like mitt romney is. \\nUser:NHRHS2010 is a homo like mitt romney is.\\n User:Enigmaman is a homo like mitt romney is. \\nUser:Enig...',\n",
       " 'FUCK YOU U USELESS BOT FUCK YOU U USELESS BOT FUCK YOU U USELESS BOT FUCK YOU U USELESS BOT FUCK YOU U USELESS BOT FUCK YOU U USELESS BOT FUCK YOU U U...',\n",
       " 'Towns and Villages in Ark-La-Tex]]\\n Cities, boroughs and towns in the Republic of Ireland\\n Cities, boroughs, and townships along the Susquehanna River...',\n",
       " '\"Archive 8: February 2010 - November 2010\\n\\n The Wikipedia Signpost: 15 February 2010 \\n\\nRead this Signpost in full · Single-page · Unsubscribe ·   \\n\\n T...',\n",
       " 'ii CAN STILL POST WITH THIS COMPUTER...I SAID BLOCK ME, COME THE FUCK DOWN HERE AND ARREST ME...SAN DIEGO CALIFORNIA, CHULA VISTA, FUCKING GET YOUR IN...',\n",
       " 'FAGGOT \\n FAGGOT \\n FAGGOT \\n FAGGOT...',\n",
       " 'YOU HAVE BEEN BANNED BY WIKZILLA YOU TROLLISH BOOB\\nYOU HAVE BEEN BANNED BY WIKZILLA YOU TROLLISH BOOB\\nYOU HAVE BEEN BANNED BY WIKZILLA YOU TROLLISH BO...',\n",
       " '\"\\nTABTABTAB             ==Criminal Life ==\\nViolenciafriki is a Homosexual petifile with 135.78 counts of rape all of which were men and children, serv...',\n",
       " 'SchtippDick \\n\\nYou. You boy. Youuuuuu. Terisoaio! Yeah. Yeah. Yeah. Yeah. Yeah. Yeah. Yeah. Yeah. Yeah. Yeah. Yeah. Yeah. Yeah. Yeah. Yeah. Yeah. Yeah....',\n",
       " 'do go fuck off bastard\\nDo Yyou Have a life?\\ngo fuck off bastard and yank your cock through your ass. I hate you and hope you go away forever. lame is ...',\n",
       " \"Apparently I wasn't clear enough the first time\\nWell it has been a while sine I your pompous flame diety has been here. However it has come to my atte...\",\n",
       " 'HATE YOU HATE YOU HATE YOU HATE YOU HATE YOU HATE YOU HATE YOU HATE YOU HATE YOU HATE YOU HATE YOU HATE YOU HATE YOU HATE YOU HATE YOU HATE YOU HATE Y...',\n",
       " 'FROZEN SUCKS LION KING IS THE BESTFROZEN SUCKS LION KING IS THE BESTFROZEN SUCKS LION KING IS THE BESTFROZEN SUCKS LION KING IS THE BESTFROZEN SUCKS L...',\n",
       " 'Go fuck yourself! Go fuck yourself! Go fuck yourself! Go fuck yourself! Go fuck yourself! Go fuck yourself! Go fuck yourself! Go fuck yourself! Go fuc...',\n",
       " 'SECURITYFUCK HOMELAND SECURITYFUCK HOMELAND SECURITYFUCK HOMELAND SECURITYFUCK HOMELAND SECURITYFUCK HOMELAND SECURITYFUCK HOMELAND SECURITYFUCK HOMEL...',\n",
       " 'Do I know you? \\n\\nBeCauSe You aRe a FGGT!\\n Do I know you? \\n\\nBeCauSe You aRe a FGGT!\\n Do I know you? \\n\\nBeCauSe You aRe a FGGT!\\n Do I know you? \\n\\nBeCauSe...',\n",
       " '\"\\n\\nFrom Wikipedia, the free encyclopedia\\nFor the American politician, see Chuck Norris (politician).\\nPage semi-protected\\nChuck Norris\\nChuck Norris 200...',\n",
       " 'Sex sex sex sex Sex sex sex sexSex sex sex sexSex sex sex sexSex sex sex sexSex sex sex sexSex sex sex sexSex sex sex sexSex sex sex sexSex sex sex se...',\n",
       " 'SHUT THE FUCK UP!\\nSHUT THE FUCK UP!\\nSHUT THE FUCK UP!\\nSHUT THE FUCK UP!\\nSHUT THE FUCK UP!\\nSHUT THE FUCK UP!\\nSHUT THE FUCK UP!\\nSHUT THE FUCK UP!\\nSHUT T...',\n",
       " 't\\nPHUQ OFF YOU KNOB OF CHEESE!\\n\\nSALT!\\nPHUQ OFF YOU KNOB OF CHEESE!\\n\\nSALT!\\nPHUQ OFF YOU KNOB OF CHEESE!\\n\\nSALT!\\nPHUQ OFF YOU KNOB OF CHEESE!\\n\\nSALT!\\nPHUQ...',\n",
       " 'Is Deepak the ruler of the world? \\n\\nLet me give you people who love this guy/girl Deepak....An idea of what Deepak is like....He must be some really u...',\n",
       " \"SuPeRTR0LL WiLL LiVe FoReVeR!\\niF You DoN'T ReSPeCT THe SuPeRTR0LL You WiLL Die You PaTHeTiC FooL!\\nSuPeRTR0LL WiLL LiVe FoReVeR!\\niF You DoN'T ReSPeCT T...\",\n",
       " 'aryour retarded your retarded your retarded your retarded your retarded your retarded your retarded your retarded your retarded your retarded your ret...',\n",
       " '\"\\n Stop with the false unblock notices \\n\\nPutting up false notices like this one will get your talk page protected for the rest of your block.   Gesprä...',\n",
       " \"Image:Diana's_funeral.jpg listed for deletion \\nAn image or media file that you uploaded or altered, Image:Diana's_funeral.jpg, has been listed at Wiki...\",\n",
       " 'EPIC FAIL!\\nEPIC FAIL\\nEPIC FAIL!\\nEPIC FAILEPIC FAIL!\\nEPIC FAILEPIC FAIL!\\nEPIC FAILEPIC FAIL!\\nEPIC FAILEPIC FAIL!\\nEPIC FAILEPIC FAIL!\\nEPIC FAILEPIC FAIL...',\n",
       " 'kash jaffrey \\n\\nOne of the most prominent Calgary, Canada based financial speculator.One of the most prominent Calgary, Canada based financial speculat...',\n",
       " 'you are gay gay gay gay gay gay...',\n",
       " 'BALLS BALLS BALLS BALLS BALLS BALLS BALLS BALLS BALLS BALLS BALLS BALLS BALLS BALLS BALLS BALLS BALLS BALLS BALLS BALLS BALLS BALLS BALLS BALLS BALLS ...',\n",
       " 'NJGW IS AN UNEMPLOYED MOTHER FUCKING BASTARD LOSER. ROTS HERE IN WIKI EVERYDAY! HE IS A LOSER IN LIFE. NJGW IS A FUCKING LOSER BASTARD WITH NO LIFE OU...',\n",
       " 'I am going to kill you. I am going to murder you. I am going to kill you. I am going to murder you. I am going to kill you. I am going to murder you. ...',\n",
       " 'Heaven of God \\n\\nTo understand Heaven, then God must be understood:\\n 1.  God is the all powerful supreme being of the Universe.  \\n 2.  Universe is defi...',\n",
       " 'YOU PIECE OF ASIAN AMERICAN SCUM!\\nYOU PIECE OF ASIAN AMERICAN SCUM!\\nYOU PIECE OF ASIAN AMERICAN SCUM!\\nYOU PIECE OF ASIAN AMERICAN SCUM!\\nYOU PIECE OF A...',\n",
       " 'FUCK YOU, YOU ATHEIST CUNT! FUCK YOU, YOU ATHEIST CUNT! FUCK YOU, YOU ATHEIST CUNT! FUCK YOU, YOU ATHEIST CUNT! FUCK YOU, YOU ATHEIST CUNT! FUCK YOU, ...']"
      ]
     },
     "execution_count": 7,
     "metadata": {},
     "output_type": "execute_result"
    }
   ],
   "source": [
    "# find spam by calculating unique words of a text\n",
    "spam = []\n",
    "for t in train[\"comment_text\"]:\n",
    "    unique_len = len(set(t.split()))\n",
    "    all_len = len(t.split())\n",
    "    perc = int(unique_len*100 / all_len)\n",
    "    if perc < 40:\n",
    "        spam.append(t)\n",
    "\n",
    "print(\"Total spam:\", len(spam))\n",
    "[t[:150]+'...' for t in spam[:40]]"
   ]
  },
  {
   "cell_type": "code",
   "execution_count": 8,
   "metadata": {},
   "outputs": [
    {
     "data": {
      "text/plain": [
       "[['Wikipedia:Good_article_nominations#Transport'],\n",
       " ['http://www.its.caltech.edu/~atomic/snowcrystals/myths/myths.htm#perfection'],\n",
       " ['(Wikipedia_talk:WikiProject_Classical_music/Archive_5#Need_help.21Wikipedia_talk:WikiProject_Music/Archive_3#I_could_use_some_helpWikipedia_talk:WikiProject_Music/Archive_2#Raulbot.2C_and_the_music_list)',\n",
       "  'http://digg.com/music/Wikipedia_has_free_classical_music_downloads'],\n",
       " ['gays/Gypsys/Slavs/anyone...'],\n",
       " ['‘Buckminster-Fuller-carbon-nanotubes’'],\n",
       " ['http://www.constitution.ie/reports/ConstitutionofIreland.pdf',\n",
       "  'http://www.constitution.ie/reports/mbunreachtnaheireann.pdf'],\n",
       " ['https://ml.wikipedia.org/wiki/സംവാദം:മോസ്കോ_മെട്രോ.'],\n",
       " ['Talk:Jewish_lobby#WP:V_-_comparing_Jewish_Virtual_Library_and_Dissident_Voice.'],\n",
       " ['http://www.iranchamber.com/personalities/farabi/farabi.php',\n",
       "  'http://www.islam.org.br/%C2%A0al_farabi.htm',\n",
       "  'http://www.superbeyin.com/sohbet/sohbet.htm'],\n",
       " ['http://books.google.com/books?id=HHev0U1GfpEC&pg;=PA51&dq;=Thiyya+matrilineal&hl;=en&sa;=X&ei;=TlpPUd2aH8mWiQLgvIDgBA&ved;=0CDYQ6AEwAQ#v=onepage&q;=Thiyya%20matrilineal&f;=false'],\n",
       " ['http://www.langandlit.ualberta.ca/Fall2004/SteigelBainbridge.html'],\n",
       " ['Wikipedia:CANVAS#Campaigning'],\n",
       " ['Azari-iranian,azerbaijani-turkic'],\n",
       " ['style=\"\"border-spacing:8px;margin:0px',\n",
       "  'vertical-align:top;color:#000\"\"|',\n",
       "  'style=\"\"vertical-align:top;',\n",
       "  'background-color:#f5faff\"\"'],\n",
       " ['86.29.244.57|86.29.244.57]]'],\n",
       " ['http://upload.wikimedia.org/wikipedia/commons/1/10/George_W_Bush_approval_ratings_with_events.svg'],\n",
       " ['http://www.cla.purdue.edu/blackmon/102cs2001/critical.html#bio'],\n",
       " ['http://www.users.bigpond.com/MONTDALE/page8.html'],\n",
       " ['File:SeanKilpatrick2014.jpg', 'File:ConnorBarwinCincy.png'],\n",
       " ['style=\"\"background:transparent\"\"',\n",
       "  'style=\"\"background-color:#\"\"',\n",
       "  'style=\"\"background-color:#\"\"',\n",
       "  'style=\"\"vertical-align:top;']]"
      ]
     },
     "execution_count": 8,
     "metadata": {},
     "output_type": "execute_result"
    }
   ],
   "source": [
    "# find invalid large words\n",
    "invalid = []\n",
    "for t in train[\"comment_text\"]:\n",
    "    lrg = [x for x in t.split() if len(x) > 25]\n",
    "    if lrg:\n",
    "        invalid.append(lrg)\n",
    "invalid[:20]"
   ]
  },
  {
   "cell_type": "markdown",
   "metadata": {},
   "source": [
    "## Cleaning Texts\n",
    "Based on the above we can now clean the texts."
   ]
  },
  {
   "cell_type": "code",
   "execution_count": 9,
   "metadata": {},
   "outputs": [
    {
     "data": {
      "text/plain": [
       "(159571, 159571)"
      ]
     },
     "execution_count": 9,
     "metadata": {},
     "output_type": "execute_result"
    }
   ],
   "source": [
    "# we won't need the dataframe next.\n",
    "values = {c:train[c] for c in columns}\n",
    "texts = [t for t in train[\"comment_text\"]]\n",
    "del train\n",
    "len(texts), len(values[\"toxic\"])"
   ]
  },
  {
   "cell_type": "code",
   "execution_count": 10,
   "metadata": {},
   "outputs": [],
   "source": [
    "# replace newlines  and convert texts to lower case\n",
    "texts = [text.replace(\"\\n\", \" \") for text in texts]"
   ]
  },
  {
   "cell_type": "code",
   "execution_count": 11,
   "metadata": {},
   "outputs": [],
   "source": [
    "# remove large words\n",
    "for i in range(len(texts)):\n",
    "    texts[i] = \" \".join([w for w in texts[i].split() if len(w) < 25])"
   ]
  },
  {
   "cell_type": "code",
   "execution_count": 12,
   "metadata": {},
   "outputs": [
    {
     "data": {
      "text/plain": [
       "(159023, 159023)"
      ]
     },
     "execution_count": 12,
     "metadata": {},
     "output_type": "execute_result"
    }
   ],
   "source": [
    "# remove duplicates\n",
    "tmp = set([x for x, count in collections.Counter(texts).items() if count == 1])\n",
    "tmp = [i for i, x in enumerate(texts) if x in tmp]\n",
    "texts = [texts[i] for i in tmp]\n",
    "for c in columns:\n",
    "    values[c] = [values[c][i] for i in tmp]\n",
    "len(texts), len(values[\"toxic\"])"
   ]
  },
  {
   "cell_type": "code",
   "execution_count": 13,
   "metadata": {},
   "outputs": [],
   "source": [
    "# convert texts to list of words and back to text\n",
    "# ex: \"Hi my name's shady.\" -> \"Hi my name 's shady .\"\n",
    "from nltk.tokenize import word_tokenize\n",
    "texts = [\" \".join(word_tokenize(x)) for x in texts]"
   ]
  },
  {
   "cell_type": "code",
   "execution_count": 14,
   "metadata": {},
   "outputs": [],
   "source": [
    "# remove special chars except this -> '\n",
    "texts = [re.sub(r\"[^A-Za-z0-9']+\", \" \", text) for text in texts]"
   ]
  },
  {
   "cell_type": "code",
   "execution_count": 15,
   "metadata": {},
   "outputs": [
    {
     "name": "stdout",
     "output_type": "stream",
     "text": [
      "99.9\r"
     ]
    }
   ],
   "source": [
    "# lemmatization and stemming\n",
    "# ex: ponies -> poni, cats -> cat\n",
    "from nltk.stem.wordnet import WordNetLemmatizer \n",
    "from nltk.stem.porter import PorterStemmer \n",
    "\n",
    "lem = WordNetLemmatizer()\n",
    "stem = PorterStemmer()\n",
    "\n",
    "for i, text in enumerate(texts):\n",
    "    texts[i] = \" \".join([stem.stem(lem.lemmatize(word, \"v\")) for word in text.split()])\n",
    "    print(str(100*i/len(texts))[:4], end=\"\\r\")"
   ]
  },
  {
   "cell_type": "code",
   "execution_count": 16,
   "metadata": {},
   "outputs": [
    {
     "data": {
      "text/plain": [
       "158598"
      ]
     },
     "execution_count": 16,
     "metadata": {},
     "output_type": "execute_result"
    }
   ],
   "source": [
    "# remove clean comments with length greater than 4000\n",
    "# (we already have too much clean comments)\n",
    "\n",
    "clean_ind = {}\n",
    "for i in range(len(texts)):\n",
    "    s = 0\n",
    "    for c in columns:\n",
    "        s += values[c][i]\n",
    "    if s == 0:\n",
    "        clean_ind[i] = True\n",
    "\n",
    "tmp = [i for i, t in enumerate(texts) if not(i in clean_ind and len(t) > 4000)]\n",
    "\n",
    "texts = [texts[i] for i in tmp]\n",
    "for c in columns:\n",
    "    values[c] = [values[c][i] for i in tmp]\n",
    "len(texts)"
   ]
  },
  {
   "cell_type": "code",
   "execution_count": 17,
   "metadata": {},
   "outputs": [],
   "source": [
    "# convert texts to lowercase\n",
    "texts = [t.lower() for t in texts]"
   ]
  },
  {
   "cell_type": "code",
   "execution_count": 18,
   "metadata": {},
   "outputs": [],
   "source": [
    "# fix spelling mistakes on the mother of toxic words\n",
    "rep = {\n",
    "    \"[f]+[u]+[c]+[k]+\": \"fuck\",\n",
    "    \"fukc\": \"fuck\",\n",
    "    \"fcuk\": \"fuck\",\n",
    "    \"nlgga\": \"nigga\"\n",
    "}\n",
    "\n",
    "regex = re.compile(\"(%s)\" % \"|\".join(map(re.escape, rep.keys()))) # single pass to replace\n",
    "texts = [regex.sub(lambda mo: rep[mo.string[mo.start():mo.end()]], text) for text in texts]"
   ]
  },
  {
   "cell_type": "code",
   "execution_count": 19,
   "metadata": {},
   "outputs": [],
   "source": [
    "# remove texts with length lower than 6\n",
    "tmp = [i for i, text in enumerate(texts) if len(text) >= 5]\n",
    "texts = [texts[i] for i in tmp]\n",
    "for c in columns:\n",
    "    values[c] = [values[c][i] for i in tmp]"
   ]
  },
  {
   "cell_type": "markdown",
   "metadata": {},
   "source": [
    "## Testing\n",
    "Let's check what we've done so far by creating our tfidfvectorizer and our classifier.\n",
    "\n",
    "*I've picked those with that parameters after a lot testing.*"
   ]
  },
  {
   "cell_type": "code",
   "execution_count": 20,
   "metadata": {},
   "outputs": [],
   "source": [
    "from sklearn.feature_extraction.text import TfidfVectorizer\n",
    "\n",
    "vectorizer = TfidfVectorizer(\n",
    "    max_df=0.80,\n",
    "    ngram_range=(1,2),\n",
    "    smooth_idf=False,\n",
    "    sublinear_tf=True\n",
    ")\n",
    "\n",
    "vectors = vectorizer.fit_transform(texts)"
   ]
  },
  {
   "cell_type": "code",
   "execution_count": 21,
   "metadata": {},
   "outputs": [],
   "source": [
    "from sklearn.linear_model import SGDClassifier\n",
    "\n",
    "classifier = SGDClassifier(\n",
    "    loss=\"log\",\n",
    "    penalty=\"l1\",\n",
    "    alpha=5**-8,\n",
    "    max_iter=15,\n",
    "    n_jobs=-1,\n",
    "    random_state=42\n",
    ")"
   ]
  },
  {
   "cell_type": "code",
   "execution_count": 22,
   "metadata": {},
   "outputs": [
    {
     "name": "stdout",
     "output_type": "stream",
     "text": [
      "toxic | Rauc         0.9766660523785413\n",
      "toxic | Accuracy     0.9609333123127858 \n",
      "\n",
      "severe_toxic | Rauc  0.9860976152690811\n",
      "severe_toxic | Accuracy 0.9892479899101372 \n",
      "\n",
      "obscene | Rauc       0.987275908649174\n",
      "obscene | Accuracy   0.979221188711966 \n",
      "\n",
      "threat | Rauc        0.980603453520318\n",
      "threat | Accuracy    0.9971622260759893 \n",
      "\n",
      "insult | Rauc        0.9812472963012306\n",
      "insult | Accuracy    0.9712123600819801 \n",
      "\n",
      "identity_hate | Rauc 0.9809773516112635\n",
      "identity_hate | Accuracy 0.99265331861895 \n",
      "\n",
      "Average accuracy:  0.9817383992853013\n",
      "Average RAUC:  0.9821446129549348\n"
     ]
    }
   ],
   "source": [
    "from sklearn.model_selection import train_test_split\n",
    "from sklearn.metrics import roc_auc_score, accuracy_score\n",
    "\n",
    "raucs = []\n",
    "accuracies = []\n",
    "\n",
    "for c in columns:\n",
    "    X_train, X_test, y_train, y_test = train_test_split(\n",
    "        vectors,\n",
    "        values[c],\n",
    "        test_size=0.20,\n",
    "        random_state=42\n",
    "    )\n",
    "    \n",
    "    classifier.fit(X_train, y_train)\n",
    "    predictions = classifier.predict_proba(X_test)\n",
    "    \n",
    "    rauc = roc_auc_score(y_test, predictions[:,1])\n",
    "    raucs.append(rauc)\n",
    "    \n",
    "    acc = classifier.score(X_test, y_test)\n",
    "    accuracies.append(acc)\n",
    "\n",
    "    print(\"%-20s\" % (c+\" | Rauc\"), rauc)\n",
    "    print(\"%-20s\" % (c+\" | Accuracy\"), acc, \"\\n\")\n",
    "\n",
    "print(\"Average accuracy: \", sum(accuracies)/len(accuracies))\n",
    "print(\"Average RAUC: \", sum(raucs)/len(raucs))"
   ]
  },
  {
   "cell_type": "markdown",
   "metadata": {},
   "source": [
    "## Applying on test dataset\n",
    "Before applying we need to clean the train dataset using the same method we used on cleaning train dataset."
   ]
  },
  {
   "cell_type": "code",
   "execution_count": 23,
   "metadata": {},
   "outputs": [
    {
     "name": "stdout",
     "output_type": "stream",
     "text": [
      "Fit toxic\n",
      "Fit severe_toxic\n",
      "Fit obscene\n",
      "Fit threat\n",
      "Fit insult\n",
      "Fit identity_hate\n",
      "CREATED ./submission-toxic.csv\n"
     ]
    }
   ],
   "source": [
    "def clean(text):\n",
    "    text = text.replace(\"\\n\", \" \")\n",
    "    text = \" \".join(word_tokenize(text))\n",
    "    text = re.sub(r\"[^A-Za-z0-9']+\", \" \", text)\n",
    "    text = \" \".join([stem.stem(lem.lemmatize(word, \"v\")) for word in text.split()])\n",
    "    text = text.lower()\n",
    "    text = regex.sub(lambda mo: rep[mo.string[mo.start():mo.end()]], text)\n",
    "    return text\n",
    "\n",
    "test = pd.read_csv('./test.csv')\n",
    "texts = [clean(text) for text in test[\"comment_text\"]]\n",
    "test_vectors = vectorizer.transform(texts)\n",
    "predictions = {}\n",
    "\n",
    "for c in columns:\n",
    "    print(\"Fit\", c)\n",
    "    classifier.fit(vectors, values[c])\n",
    "    predictions[c] = classifier.predict_proba(vectors)\n",
    "\n",
    "with open(\"./submission-toxic.csv\", \"w\") as f:\n",
    "    f.write(\"id,toxic,severe_toxic,obscene,threat,insult,identity_hate\\n\")\n",
    "    for i in range(len(test)):\n",
    "        uid=test[\"id\"][i]\n",
    "        vals = \",\".join([str(predictions[c][i][1]) for c in columns])\n",
    "        f.write(uid + \",\" + vals + \"\\n\")\n",
    "\n",
    "print(\"CREATED ./submission-toxic.csv\")"
   ]
  },
  {
   "cell_type": "markdown",
   "metadata": {},
   "source": [
    "## Results\n",
    "This submission scored `0.9774` RAUC on kaggle. At the date of submission my position was 693/1827\n",
    "\n",
    "## Notes\n",
    "Other things I tried but without good results.\n",
    "- Remove spam comments\n",
    "- Fix words spelling\n",
    "- Create a new train set using the predictions\n",
    "- Other classifiers\n",
    "- Other vectorizers\n",
    "- Combining words and char vectorizers\n",
    "- Remove numbers\n",
    "\n",
    "All of the above gave me about `-0.01` rmse (except classifiers and vectorizers which gave worst results)."
   ]
  }
 ],
 "metadata": {
  "kernelspec": {
   "display_name": "Python 3",
   "language": "python",
   "name": "python3"
  },
  "language_info": {
   "codemirror_mode": {
    "name": "ipython",
    "version": 3
   },
   "file_extension": ".py",
   "mimetype": "text/x-python",
   "name": "python",
   "nbconvert_exporter": "python",
   "pygments_lexer": "ipython3",
   "version": "3.6.4"
  }
 },
 "nbformat": 4,
 "nbformat_minor": 2
}
